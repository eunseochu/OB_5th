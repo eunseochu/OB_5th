{
  "nbformat": 4,
  "nbformat_minor": 0,
  "metadata": {
    "colab": {
      "provenance": [],
      "authorship_tag": "ABX9TyOLAh0bBqmpBet2vyiaoZtk",
      "include_colab_link": true
    },
    "kernelspec": {
      "name": "python3",
      "display_name": "Python 3"
    },
    "language_info": {
      "name": "python"
    }
  },
  "cells": [
    {
      "cell_type": "markdown",
      "metadata": {
        "id": "view-in-github",
        "colab_type": "text"
      },
      "source": [
        "<a href=\"https://colab.research.google.com/github/eunseochu/OB_5th/blob/main/%ED%8C%8C%EC%9D%B4%EC%8D%AC_%EB%A8%B8%EC%8B%A0%EB%9F%AC%EB%8B%9D_%EC%99%84%EB%B2%BD_%EA%B0%80%EC%9D%B4%EB%93%9C_%ED%85%8D%EC%8A%A4%ED%8A%B8%EB%B6%84%EC%84%9D(1).ipynb\" target=\"_parent\"><img src=\"https://colab.research.google.com/assets/colab-badge.svg\" alt=\"Open In Colab\"/></a>"
      ]
    },
    {
      "cell_type": "markdown",
      "source": [
        "# **8. 텍스트 분석**"
      ],
      "metadata": {
        "id": "4mWC7H67dD7_"
      }
    },
    {
      "cell_type": "markdown",
      "source": [
        "### **1) NLP vs 텍스트 분석**\n",
        "- NLP: 머신이 인간의 언어를 이해하고 해석하는 데 중점\n",
        "- 텍스트 분석: 비정형 텍스트에서 의미 있는 정보를 추출하는 것에 중점"
      ],
      "metadata": {
        "id": "mVnUsofFdIl-"
      }
    },
    {
      "cell_type": "markdown",
      "source": [
        "#### **NLP**\n",
        "언어를 해석하기 위한 기계 번역, 자동으로 질문을 해석하고 답을 해주는 질의응답 시스템\n",
        "- 텍스트 분석을 향상하게 하는 기반 기술\n",
        "  - NLP 기술이 발전함에 따라 텍스트 분석도 더욱 정교하게 발전\n",
        "- NLP와 텍스트 분석의 발전 근간에는 머신러닝이 존재\n",
        "  - 이전에는 텍스트를 구성하는 언어적인 룰이나 업무의 룰에 따라 텍스트를 분석하는 룰 기반 시스템\n",
        "  - 머신러닝의 텍스트 데이터를 기반으로 모델을 학습하고 예측하는 기반으로 변경되며 많은 기술적 발전 가능"
      ],
      "metadata": {
        "id": "x7XXDDhVd1yY"
      }
    },
    {
      "cell_type": "markdown",
      "source": [
        "#### **텍스트 분석**\n",
        "모델을 수립하고 정보를 추출해 비즈니스 인텔리전스(BI)나 예측 분석등의 분석 작업을 주로 수행\n",
        "- **텍스트 분류**: 문서가 특정 분류 또는 카테고리에 속하는 것을 예측하는 기법\n",
        "  - ex. 특정 신문 기사 내용이 연애/정치/사회/문화 중 어떤 카테고리에 속하는지 자동으로 분류, 스팸 메일 검출\n",
        "  - 지도 학습을 적용\n",
        "- **감정 분석**: 텍스트에서 나타나는 감정/판단/믿음/의견/기분 등의 주관적인 요소를 분석하는 기법\n",
        "  - ex. 소셜 미디어 감정 분석, 영화나 제품에 대한 긍정 또는 리뷰, 여론조사 의견 분석 등의 다양한 영역\n",
        "  - 텍스트 분석에서 가장 활발하게 사용되는 분야이며, 지도학습 뿐만 아니라 비지도학습을 이용해 적용 가능\n",
        "- **텍스트 요약**: 텍스트 내에서 중요한 주제나 중심 사상을 추출하는 기법\n",
        "  - ex. 토픽 모델링\n",
        "- **텍스트 군집화와 유사도 측정**: 비슷한 유형의 문서에 대해 군집화를 수행\n",
        "  - 텍스트 분류를 비지도 학습으로 수행하는 방법의 일환\n",
        "  - 유사도 측정 역시 문서들간의 유사도를 측정해 비슷한 문서끼리 모을 수 있는 방법"
      ],
      "metadata": {
        "id": "No2KK0bReJQT"
      }
    },
    {
      "cell_type": "markdown",
      "source": [
        "### **2) 텍스트 분석 이해**"
      ],
      "metadata": {
        "id": "mvhpa5ICfpBA"
      }
    },
    {
      "cell_type": "markdown",
      "source": [
        "#### **텍스트 분석이란?**\n",
        "비정형 데이터인 텍스트를 분석하는 것\n",
        "- ML 모델은 주어진 정형 데이터 기반에서 모델을 수립하고 예측을 수행하며, 숫자형의 피처 기반 데이터만 입력받을 수 있음\n",
        "- 텍스트를 머신러닝에 적용하기 위해서는 비정형 텍스트 데이터를 어떻게 피처 형태로 추출하고 <br/> 추출된 피처에 의미 있는 값을 부여하는가 하는 것이 매우 중요한 요소\n",
        "  - **피처 벡터화/추출**: 텍스트를 word 기반의 다수의 피처로 추출하고 <br/> 이 피처에 단어 빈도수와 같은 숫자 값을 부여하여 단어의 조합인 벡터값으로 표현\n",
        "  - BOW(Bag of Words)와 Word2Vec 방법 존재"
      ],
      "metadata": {
        "id": "4MmfIVD4fwDx"
      }
    },
    {
      "cell_type": "markdown",
      "source": [
        "#### **텍스트 분석 수행 프로세스**\n",
        "- **텍스트 사전 준비작업(텍스트 전처리)**\n",
        "  - 텍스트를 피처로 만들기 전에 미리 클렌징\n",
        "  - 대/소문자 변경, 특수 문자 삭제 등의 클렌징 작업, 대/소문자 변경, 특수문자 삭제 등의 클렌징 작업, <br/> 단어 등의 토큰화 작업, 의미 없는 단어 제거 작업, 어근 추출 등의 텍스트 정규화 작업 수행\n",
        "- **피처 벡터화/추출**\n",
        "  - 사전 준비 작업으로 가공된 텍스트에서 피처를 추출하고 여기에 벡터 값을 할당\n",
        "  - BOW와 Word2Vec 방법 사용\n",
        "  - BOW는 대표적으로 Count 기반과 TF-IDF 기반 벡터화 존재\n",
        "- **ML 모델 수립 및 학습/예측/평가**\n",
        "  - 피처 벡터화된 데이터 세트에 ML 모델을 적용해 학습/예측 및 평가를 수행"
      ],
      "metadata": {
        "id": "lrpyaXvigbZf"
      }
    },
    {
      "cell_type": "markdown",
      "source": [
        "#### **파이썬 기반의 NLP, 텍스트 분석 패키지**\n",
        "NLP와 텍스트 분석을 위해 쉽고 편하게 텍스트 사전 정제 작업, 피처 벡터화/추출, ML 모델을 지원하는 라이브러리 존재\n",
        "- **NLTK**\n",
        "방대한 데이터 세트와 서브 모듈을 가지고 있으며 NLP의 거의 모든 영역 커버\n",
        "  - 많은 NLP 패키지가 NLTK의 영향을 받아 작성\n",
        "  - 수행 성능과 정확도, 신기술, 엔터프라이즈한 기능 지원 등의 측면에서 부족한 부분 존재\n",
        "  - 실제 대량의 데이터 기반에서는 제대로 활용되지 못하고 있음\n",
        "- **Gensim**\n",
        "  - 토픽 모델링 분야에서 가장 두각을 나타내는 패키지\n",
        "  - 오래전부터 토픽 모델링을 쉽게 구현할 수 있는 기능을 제공해왔으며, Word2Vec 구현 등의 다양한 신기능 제공\n",
        "  - SpaCy와 함께 실제 업무에서 자주 활용되는 NLP 패키지\n",
        "- **Spacy**\n",
        "  - 뛰어난 수행 성능으로 최근 가장 주목을 받는 NLP 패키지\n",
        "  - 많은 NLP 어플리케이션에서 SpaCy를 사용하는 사례 증가"
      ],
      "metadata": {
        "id": "6pZsPuMZhcla"
      }
    },
    {
      "cell_type": "markdown",
      "source": [
        "#### **사이킷런 라이브러리** \n",
        "사이킷런은 머신러닝 위주의 라이브러리여서 NLP를 위한 다양한 라이브러리는 가지고 있지 않음\n",
        "- 텍스트를 일정 수준으로 가공하고 머신러닝 알고리즘에 텍스트 데이터를 피처로 처리하기 위한 편리한 기능 제공\n",
        "- 사이킷런만으로도 충분한 텍스트 분석 기능을 수행 가능\n",
        "- 더 다양한 텍스트 분석이 적용되어야하는 경우 NLP 전용 패키지와 결합해 애플리케이션을 작성"
      ],
      "metadata": {
        "id": "538fRN-8m_c_"
      }
    },
    {
      "cell_type": "markdown",
      "source": [
        "### **3) 텍스트 사전 준비 작업(텍스트 전처리) - 텍스트 정규화**\n",
        "텍스트 자체를 바로 피처로 만들 수 없기 때문에, 사전에 텍스트를 가공하는 준비 작업이 필요\n",
        "- 텍스트 정규화는 텍스트를 머신러닝 알고리즘이나 NLP 어플리케이션에 입력 데이터로 사용하기 위해 <br/> 클렌징, 정제, 토큰화, 어근화 등의 다양한 텍스트 데이터의 사전 작업을 수행하는 것을 의미\n",
        "- 텍스트 분석은 텍스트 정규화 작업이 매우 중요\n",
        "  - 클렌징\n",
        "  - 토큰화\n",
        "  - 필터링/스톱 워드 제거/철자 수정\n",
        "  - Stemming\n",
        "  - Lemmatizaion"
      ],
      "metadata": {
        "id": "y7641lcmngf9"
      }
    },
    {
      "cell_type": "markdown",
      "source": [
        "#### **클렌징**\n",
        "텍스트에서 분석에 오히려 방해가 되는 불필요한 문자, 기호 등을 사전에 제거하는 작업\n",
        "- HTML, XML 태그나 특정 기호 등을 사전에 제거"
      ],
      "metadata": {
        "id": "xamMTWjan5jG"
      }
    },
    {
      "cell_type": "markdown",
      "source": [
        "#### **텍스트 토큰화**\n",
        "문서에서 문장을 분리하는 문장 토큰화와 문장에서 단어를 토큰으로 분리하는 단어 토큰화로 구분\n",
        "- NLTK는 이를 위해 다양한 API 제공"
      ],
      "metadata": {
        "id": "xazf-0rSoAp0"
      }
    },
    {
      "cell_type": "markdown",
      "source": [
        "#### **문장 토큰화**\n",
        "- 문장의 마침표(,), 개행문자(\\n) 등 문장의 마지막을 뜻하는 기호에 따라 분리하는 것이 일반적\n",
        "- 정규 표현식에 따른 문장 토큰화도 가능"
      ],
      "metadata": {
        "id": "f9D1VccLoRm9"
      }
    },
    {
      "cell_type": "markdown",
      "source": [
        "**문장 토큰화 예제** <br/>\n",
        "NLTK에서 일반적으로 많이 쓰이는 sent_tokenize를 이용해 토큰화를 수행\n",
        "- 3개의 문장으로 이루어진 텍스트 문서를 문장으로 각각 분리하는 예제\n",
        "- 단어 사전과 같이 참조가 필요한 데이터 세트의 경우 인터넷으로 다운로드\n",
        "  - 수행하려는 컴퓨터에 인터넷 연결이 돼 있는지 확인 후 다운로드 수행\n",
        "  - nltk.download('punkt')는 마침표, 개행 문자 등의 데이터 세트를 다운로드"
      ],
      "metadata": {
        "id": "6zA80Vh7o3_J"
      }
    },
    {
      "cell_type": "code",
      "source": [
        "from nltk import sent_tokenize\n",
        "import nltk\n",
        "nltk.download('punkt')\n",
        "\n",
        "text_sample='The Matrix is everywhere its all around us, here even in ths room. You can see it out your window or on your television. You feel it when you go to work, or go to church or pay your taxes.'\n",
        "sentences=sent_tokenize(text=text_sample)\n",
        "print(type(sentences), len(sentences)) #list\n",
        "print(sentences)"
      ],
      "metadata": {
        "colab": {
          "base_uri": "https://localhost:8080/"
        },
        "id": "4MmJiPZ6eAIn",
        "outputId": "1fb6a376-bd0a-4fe1-9296-0769580a1385"
      },
      "execution_count": 2,
      "outputs": [
        {
          "output_type": "stream",
          "name": "stderr",
          "text": [
            "[nltk_data] Downloading package punkt to /root/nltk_data...\n",
            "[nltk_data]   Unzipping tokenizers/punkt.zip.\n"
          ]
        },
        {
          "output_type": "stream",
          "name": "stdout",
          "text": [
            "<class 'list'> 3\n",
            "['The Matrix is everywhere its all around us, here even in ths room.', 'You can see it out your window or on your television.', 'You feel it when you go to work, or go to church or pay your taxes.']\n"
          ]
        }
      ]
    },
    {
      "cell_type": "markdown",
      "source": [
        "- sent_tokneize()가 반환하는 것은 각각의 문장으로 구성된 list 객체\n",
        "- 반환된 list 객체가 3개의 문장으로 된 문자열을 가지고 있음을 알 수 있음"
      ],
      "metadata": {
        "id": "1zXEZO2Tpb5l"
      }
    },
    {
      "cell_type": "markdown",
      "source": [
        "##### **단어 토큰화**\n",
        "문장을 분리하는 구분자를 이용해 단어로 토큰화하는 것\n",
        "- 공백, 콤마(,), 마침표(.), 개행문자 등으로 단어를 분리\n",
        "- 정규 표현식을 이용해 다양한 유형으로 토큰화 수행 가능\n",
        "  - Bag of Word와 같이 단어의 순서가 중요하지 않은 경우 단어 토큰화만 사용해도 충분\n",
        "  - 문장 토큰화는 각 문장이 가지는 시맨틱적인 의미가 중요한 요소로 사용될 때 사용"
      ],
      "metadata": {
        "id": "0WIC11SQphOo"
      }
    },
    {
      "cell_type": "markdown",
      "source": [
        "**단어 토큰화 예제 (1)** <br/>\n",
        "NTLK에서 기본으로 제공하는 word_tokenize()를 이용해 단어로 토큰화"
      ],
      "metadata": {
        "id": "JcgAqYxjqr3n"
      }
    },
    {
      "cell_type": "code",
      "execution_count": 3,
      "metadata": {
        "colab": {
          "base_uri": "https://localhost:8080/"
        },
        "id": "pJCJhY-Rc_MN",
        "outputId": "fe9f27d9-0af3-4ee1-d3e7-2a422494dcf4"
      },
      "outputs": [
        {
          "output_type": "stream",
          "name": "stdout",
          "text": [
            "<class 'list'> 15\n",
            "['The', 'Matrix', 'is', 'everywhere', 'its', 'all', 'around', 'us', ',', 'here', 'even', 'in', 'this', 'room', '.']\n"
          ]
        }
      ],
      "source": [
        "from nltk import word_tokenize\n",
        "\n",
        "sentence = \"The Matrix is everywhere its all around us, here even in this room.\"\n",
        "words = word_tokenize(sentence)\n",
        "print(type(words), len(words))\n",
        "print(words)"
      ]
    },
    {
      "cell_type": "markdown",
      "source": [
        "**단어 토큰화 예제(2)** <br/>\n",
        "sent_tokenize와 word_tokenize를 조합해 문서에 대해서 모든 단어를 토큰화\n",
        "- 이전 예제에서 선언된 3개의 문장으로 된 text_sample을 문장별로 단어 토큰화를 적용\n",
        "- 문서를 먼저 문장으로 나누고, 개별 문장을 다시 단어로 토큰화하는 tokenize_text() 함수 생성"
      ],
      "metadata": {
        "id": "we19Hksnq1AU"
      }
    },
    {
      "cell_type": "code",
      "source": [
        "from nltk import word_tokenize, sent_tokenize\n",
        "\n",
        "#여러개의 문장으로 된 입력 데이터를 문장별로 단어 토큰화 만드는 함수 생성\n",
        "def tokenize_text(text):\n",
        "    \n",
        "    # 문장별로 분리 토큰\n",
        "    sentences = sent_tokenize(text)\n",
        "    # 분리된 문장별 단어 토큰화\n",
        "    word_tokens = [word_tokenize(sentence) for sentence in sentences]\n",
        "    return word_tokens\n",
        "\n",
        "#여러 문장들에 대해 문장별 단어 토큰화 수행. \n",
        "word_tokens = tokenize_text(text_sample)\n",
        "print(type(word_tokens),len(word_tokens))\n",
        "print(word_tokens)"
      ],
      "metadata": {
        "colab": {
          "base_uri": "https://localhost:8080/"
        },
        "id": "1TXqhSIWqyhl",
        "outputId": "ba6f8b69-8263-44c7-ce5b-22e231c98023"
      },
      "execution_count": 4,
      "outputs": [
        {
          "output_type": "stream",
          "name": "stdout",
          "text": [
            "<class 'list'> 3\n",
            "[['The', 'Matrix', 'is', 'everywhere', 'its', 'all', 'around', 'us', ',', 'here', 'even', 'in', 'ths', 'room', '.'], ['You', 'can', 'see', 'it', 'out', 'your', 'window', 'or', 'on', 'your', 'television', '.'], ['You', 'feel', 'it', 'when', 'you', 'go', 'to', 'work', ',', 'or', 'go', 'to', 'church', 'or', 'pay', 'your', 'taxes', '.']]\n"
          ]
        }
      ]
    },
    {
      "cell_type": "markdown",
      "source": [
        "- 3개 문장을 문장별로 먼저 토큰화했으므로 word_tokens 변수는 3개의 리스트 객체를 내포하는 리스트\n",
        "- 내포된 개별 리스트 객체는 각각 문장별로 토큰화된 단어를 요소로 가짐"
      ],
      "metadata": {
        "id": "P4Pbfh5QrEHm"
      }
    },
    {
      "cell_type": "markdown",
      "source": [
        "**n-gram** <Br/>\n",
        "**연속된 n개의 단어를 하나의 토큰화 단위로 분리**해 내는 것\n",
        "- 문장을 단어별로 하나씩 토큰화할 경우 문맥적인 의미를 무시할 밖에 없는 문제를 해결하고자 도입\n",
        "- n개 단어 크기 윈도우를 만들어 문장의 처음부터 오른쪽으로 움직이면서 토큰화를 수행"
      ],
      "metadata": {
        "id": "S6UC19FUrOOb"
      }
    },
    {
      "cell_type": "code",
      "source": [
        "from nltk import ngrams\n",
        "\n",
        "sentence = \"The Matrix is everywhere its all around us, here even in this room.\"\n",
        "words = word_tokenize(sentence)\n",
        "\n",
        "all_ngrams = ngrams(words, 2)\n",
        "ngrams = [ngram for ngram in all_ngrams]\n",
        "print(ngrams)"
      ],
      "metadata": {
        "colab": {
          "base_uri": "https://localhost:8080/"
        },
        "id": "P-DlGKNXsFKT",
        "outputId": "e678904d-eab2-4b50-94d1-05a613a1c0d4"
      },
      "execution_count": 5,
      "outputs": [
        {
          "output_type": "stream",
          "name": "stdout",
          "text": [
            "[('The', 'Matrix'), ('Matrix', 'is'), ('is', 'everywhere'), ('everywhere', 'its'), ('its', 'all'), ('all', 'around'), ('around', 'us'), ('us', ','), (',', 'here'), ('here', 'even'), ('even', 'in'), ('in', 'this'), ('this', 'room'), ('room', '.')]\n"
          ]
        }
      ]
    },
    {
      "cell_type": "markdown",
      "source": [
        "#### **스톱 워드 제거**\n",
        "스톱 워드(Stop word)는 분석에 큰 의미가 없는 단어를 지칭\n",
        "- is, the, a, will 등 문장을 구성하는 필수 문법 요소지만 문맥적으로 큰 의미가 없는 단어\n",
        "- 문법적인 특성으로 인해 특히 빈번하게 텍스트에 나타나므로 **사전에 제거하지 않으면 중요한 단어로 인지될 수 있음**\n",
        "- 의미 없는 단어를 제거하는 것이 중요한 전처리 작업\n",
        "  - 언어별로 스톱 워드가 목록화되어 있음\n",
        "  - NTLK는 가장 다양한 언어의 스톱 워드를 제공"
      ],
      "metadata": {
        "id": "VcqT-kwNreC-"
      }
    },
    {
      "cell_type": "markdown",
      "source": [
        "##### **NLTK의 스톱워드**"
      ],
      "metadata": {
        "id": "eetC8eCDr7Lw"
      }
    },
    {
      "cell_type": "markdown",
      "source": [
        "**NLTK의 stopwords 목록 내려받기**"
      ],
      "metadata": {
        "id": "fRBNnCigsLx7"
      }
    },
    {
      "cell_type": "code",
      "source": [
        "import nltk\n",
        "nltk.download('stopwords')"
      ],
      "metadata": {
        "colab": {
          "base_uri": "https://localhost:8080/"
        },
        "id": "tQXmJOqKrCmd",
        "outputId": "d0395660-d694-4804-def6-db931d2edbc5"
      },
      "execution_count": 6,
      "outputs": [
        {
          "output_type": "stream",
          "name": "stderr",
          "text": [
            "[nltk_data] Downloading package stopwords to /root/nltk_data...\n",
            "[nltk_data]   Unzipping corpora/stopwords.zip.\n"
          ]
        },
        {
          "output_type": "execute_result",
          "data": {
            "text/plain": [
              "True"
            ]
          },
          "metadata": {},
          "execution_count": 6
        }
      ]
    },
    {
      "cell_type": "markdown",
      "source": [
        "**NLTK English의 stopwords**\n",
        "- 몇 개의 stopwrods가 있는지 알아보고 그 중 20개만 확인"
      ],
      "metadata": {
        "id": "jwOQ6-AysPJh"
      }
    },
    {
      "cell_type": "code",
      "source": [
        "print('영어 stop words 갯수:',len(nltk.corpus.stopwords.words('english')))\n",
        "print(nltk.corpus.stopwords.words('english')[:40])"
      ],
      "metadata": {
        "colab": {
          "base_uri": "https://localhost:8080/"
        },
        "id": "F9-jPB4xsH4f",
        "outputId": "d2f4bd40-859a-409b-a970-e0bf098c8b7a"
      },
      "execution_count": 7,
      "outputs": [
        {
          "output_type": "stream",
          "name": "stdout",
          "text": [
            "영어 stop words 갯수: 179\n",
            "['i', 'me', 'my', 'myself', 'we', 'our', 'ours', 'ourselves', 'you', \"you're\", \"you've\", \"you'll\", \"you'd\", 'your', 'yours', 'yourself', 'yourselves', 'he', 'him', 'his', 'himself', 'she', \"she's\", 'her', 'hers', 'herself', 'it', \"it's\", 'its', 'itself', 'they', 'them', 'their', 'theirs', 'themselves', 'what', 'which', 'who', 'whom', 'this']\n"
          ]
        }
      ]
    },
    {
      "cell_type": "markdown",
      "source": [
        "- 스톱 워드의 개수가 179개이며 그 중 20개만 살펴보면 위 결과와 같음"
      ],
      "metadata": {
        "id": "mIQTOnSTsWIJ"
      }
    },
    {
      "cell_type": "markdown",
      "source": [
        "**stopwords 필터링 제거** <br/>\n",
        "3개의 문장별로 단어를 토큰화해 생성된 word_tokens 리스트에 대해 stopwords를 필터링으로 제거"
      ],
      "metadata": {
        "id": "MSnQUhs0sY4v"
      }
    },
    {
      "cell_type": "code",
      "source": [
        "import nltk\n",
        "\n",
        "stopwords = nltk.corpus.stopwords.words('english')\n",
        "all_tokens = []\n",
        "# 위 예제의 3개의 문장별로 얻은 word_tokens list 에 대해 stop word 제거 Loop\n",
        "for sentence in word_tokens:\n",
        "    filtered_words=[]\n",
        "    # 개별 문장별로 tokenize된 sentence list에 대해 stop word 제거 Loop\n",
        "    for word in sentence:\n",
        "        #소문자로 모두 변환합니다. \n",
        "        word = word.lower()\n",
        "        # tokenize 된 개별 word가 stop words 들의 단어에 포함되지 않으면 word_tokens에 추가\n",
        "        if word not in stopwords:\n",
        "            filtered_words.append(word)\n",
        "    all_tokens.append(filtered_words)\n",
        "    \n",
        "print(all_tokens)"
      ],
      "metadata": {
        "colab": {
          "base_uri": "https://localhost:8080/"
        },
        "id": "iPpHeCuFsVcj",
        "outputId": "6cffa352-47ca-419b-fade-68635291a6ea"
      },
      "execution_count": 8,
      "outputs": [
        {
          "output_type": "stream",
          "name": "stdout",
          "text": [
            "[['matrix', 'everywhere', 'around', 'us', ',', 'even', 'ths', 'room', '.'], ['see', 'window', 'television', '.'], ['feel', 'go', 'work', ',', 'go', 'church', 'pay', 'taxes', '.']]\n"
          ]
        }
      ]
    },
    {
      "cell_type": "markdown",
      "source": [
        "- is, this와 같은 스톱 워드가 필터링을 통해 제거 됨"
      ],
      "metadata": {
        "id": "giDzdBJwsiIY"
      }
    },
    {
      "cell_type": "markdown",
      "source": [
        "#### **Stemming과 Lemmatization**\n",
        "Stemming과 lemmatization은 문법적 또는 의미적으로 변화하는 단어의 원형을 찾음\n",
        "- 원형 단어를 찾는다는 목적은 유사\n",
        "- Lemmatization이 Stemming보다 정교하며 의미론적인 기반에서 단어의 원형을 찾음\n",
        "  - Stemming: 원형 단어로 변환 시 일반적인 방법을 적용하거나 <br/> 더 단순화된 방법을 적용해 원래 단어에서 일부 철자가 훼손된 어근 단어를 추출하는 경향\n",
        "  - Lemmatization: 품사와 같은 문법적인 요소와 더 의미적인 부분을 감안해 정확한 철자로 된 어근 단어를 찾으므로, <br/> Stemming보다 변환에 더 오랜 시간을 필요로 함"
      ],
      "metadata": {
        "id": "2QSwxOuwsln2"
      }
    },
    {
      "cell_type": "markdown",
      "source": [
        "##### **NLTK의 Stemming과 Lemmatization**\n",
        "NLTK는 다양한 Stemmer와 Lemmatizer 제공\n",
        "- Stemmer: Porter, Lancaster, Snowball Stemmer\n",
        "- Lemmatizer: WordNetLemmatizer"
      ],
      "metadata": {
        "id": "6mwd0q_StLKy"
      }
    },
    {
      "cell_type": "markdown",
      "source": [
        "**NLTK의 LancasterStemmer** <br/>\n",
        "진행형, 3인칭 단수, 과거형에 따른 동사, 그리고 비교, 최상에 따른 형용사의 변화에 따라 더 단순하게 원형 단어를 찾아줌\n",
        "- LancasterStemmer()와 같이 필요한 Stemmer 객체를 생성\n",
        "- **객체의 stem('단어') 메서드를 호출**하면 원하는 '단어'의 stemming 가능"
      ],
      "metadata": {
        "id": "EM8neKp5tfHG"
      }
    },
    {
      "cell_type": "code",
      "source": [
        "from nltk.stem import LancasterStemmer\n",
        "stemmer = LancasterStemmer()\n",
        "\n",
        "print(stemmer.stem('working'),stemmer.stem('works'),stemmer.stem('worked'))\n",
        "print(stemmer.stem('amusing'),stemmer.stem('amuses'),stemmer.stem('amused'))\n",
        "print(stemmer.stem('happier'),stemmer.stem('happiest'))\n",
        "print(stemmer.stem('fancier'),stemmer.stem('fanciest'))"
      ],
      "metadata": {
        "colab": {
          "base_uri": "https://localhost:8080/"
        },
        "id": "E8H8Iet7shUu",
        "outputId": "57a87443-5c5d-4e3d-e64b-856a4b651dfe"
      },
      "execution_count": 9,
      "outputs": [
        {
          "output_type": "stream",
          "name": "stdout",
          "text": [
            "work work work\n",
            "amus amus amus\n",
            "happy happiest\n",
            "fant fanciest\n"
          ]
        }
      ]
    },
    {
      "cell_type": "markdown",
      "source": [
        "- work의 경우 진행형, 3인칭 단수, 과거형 모두 기본 단어에 ing, s, ed가 붙는 단순한 변화이므로 원형 단어 인식\n",
        "- amuse의 경우, 각 변화가 amus에 ing, s, ed가 붙으므로 정확한 단어 amuse가 아닌 amus를 원형 단어로 인식\n",
        "- 형용사인 happy, fancy의 경우도 비교형 최상급형으로 변형된 단어의 정확한 원형을 찾지 못함\n",
        "- 원형 단어에서 철자가 다른 어근 단어로 인식하는 경우가 발생"
      ],
      "metadata": {
        "id": "u_9VejMzt4yn"
      }
    },
    {
      "cell_type": "markdown",
      "source": [
        "**NLTK의 WordNetLemmatizer** <br/>\n",
        "Lemmatization은 보다 정확한 원형 단어 추출을 위해 **단어의 '품사'를 입력**해줘야 함\n",
        "- lemmatize()의 파라미터로 동사의 경우 'v', 형용사의 경우 'a'를 입력"
      ],
      "metadata": {
        "id": "35gOjHPWuObx"
      }
    },
    {
      "cell_type": "code",
      "source": [
        "from nltk.stem import WordNetLemmatizer\n",
        "import nltk\n",
        "nltk.download('wordnet')\n",
        "\n",
        "lemma = WordNetLemmatizer()\n",
        "print(lemma.lemmatize('amusing', 'v'), lemma.lemmatize('amuses', 'v'), lemma.lemmatize('amused','v')) #동사 ->v\n",
        "print(lemma.lemmatize('happier', 'a'), lemma.lemmatize('happiest', 'a')) #형용사 -> a\n",
        "print(lemma.lemmatize('fancier', 'a'), lemma.lemmatize('happest', 'a'))"
      ],
      "metadata": {
        "colab": {
          "base_uri": "https://localhost:8080/"
        },
        "id": "vpUtsBXNt3hg",
        "outputId": "4f48ccbc-0b03-4eb0-f030-52df20ad086e"
      },
      "execution_count": 11,
      "outputs": [
        {
          "output_type": "stream",
          "name": "stderr",
          "text": [
            "[nltk_data] Downloading package wordnet to /root/nltk_data...\n"
          ]
        },
        {
          "output_type": "stream",
          "name": "stdout",
          "text": [
            "amuse amuse amuse\n",
            "happy happy\n",
            "fancy happest\n"
          ]
        }
      ]
    },
    {
      "cell_type": "markdown",
      "source": [
        "- 앞의 Stemmer보다 정확하게 원형 단어 추출"
      ],
      "metadata": {
        "id": "MgkKjAx2uqcP"
      }
    },
    {
      "cell_type": "markdown",
      "source": [
        "### **4) Bag of Words - BOW**\n",
        "문서가 가지는 모든 단어(Words)를 문맥이나 순서를 무시하고 일괄적으로 **단어에 대해 빈도 값을 부여해 피처 값을 추출**하는 모델"
      ],
      "metadata": {
        "id": "DMt_eKu4usLJ"
      }
    },
    {
      "cell_type": "markdown",
      "source": [
        "#### **Bag of word의 단어 수(Word Count) 기반 피처 추출**\n",
        "- 문장1과 2에 있는 모든 단어에서 중복을 제거하고 각 단어를 칼럼 형태로 나열. 그리고 각 단어에 고유의 인덱스 부여\n",
        "  - 'and':0, 'baseball':1, 'daugter':2, 'games':3, ..., 'watch':9, 'wife':10\n",
        "- 개별 문장에서 해당 단어가 나타나는 횟수를 각 단어에 기재"
      ],
      "metadata": {
        "id": "wl0KMFfru8OM"
      }
    },
    {
      "cell_type": "markdown",
      "source": [
        "##### **BOW 모델의 장점**\n",
        "- 단순히 단어의 발생 횟수에 기반하고 있지만, 예상보다 문서의 특징을 잘 나타낼 수 있는 모델\n",
        "- 전통적으로 여러 분야에서 활용도가 높고, 쉽고 빠른 구축이 가능"
      ],
      "metadata": {
        "id": "Dlj-GDULvc6s"
      }
    },
    {
      "cell_type": "markdown",
      "source": [
        "##### **BOW 모델의 단점**\n",
        "BOW 기반의 NLP 연구는 여러 가지 제약에 부딪히고 있음"
      ],
      "metadata": {
        "id": "ulOoZqOgzzNH"
      }
    },
    {
      "cell_type": "markdown",
      "source": [
        "**문맥 의미 반영 부족** <br/> \n",
        "단어의 순서를 고려하지 않기 때문에 문장 내에서 단어의 문맥적인 의미가 무시됨\n",
        "  - n_gram 기법을 사용해 보완할 수 있지만, 제한적인 부분에 그침\n",
        "  - 언어의 많은 부분을 차지하는 문맥적인 해석을 처리하지 못하는 단점"
      ],
      "metadata": {
        "id": "ceEAOdN3vpj2"
      }
    },
    {
      "cell_type": "markdown",
      "source": [
        "**희소 행렬 문제** <br/>\n",
        "BOW로 피처 벡터화를 수행하면 희소 행렬 형태의 데이터 세트가 만들어지기 쉬움\n",
        "- 많은 문서에서 단어를 추출하면 매우 많은 단어가 칼럼으로 만들어짐\n",
        "  - 문서마다 서로 다른 단어가 구성되기에 단어가 문서마다 나타나지 않는 경우가 더 많음\n",
        "  - 매우 많은 문서에서 단어의 총 개수는 수만 ~ 수십만개지만, <br/> 하나의 문서에 있는 단어는 이 중 극히 일부이므로 대부분의 데이터가 0으로 채워지게 됨\n",
        "- **희소 행렬(Sparse Matrix)**: 대규모의 칼럼으로 구성된 행렬에서 **대부분의 값이 0으로 채워지는 행렬**\n",
        "  - 이와 반대로 대부분의 값이 0이 아닌 의미 있는 값으로 채워져 있는 행렬은 밀집 행렬(Dense Matrix)\n",
        "  - 일반적으로 **ML 알고리즘의 수행 시간과 예측 성능을 떨어트리기 때문에** 희소 행렬을 위한 특별한 기법 마련"
      ],
      "metadata": {
        "id": "19_hzwZOzmSF"
      }
    },
    {
      "cell_type": "markdown",
      "source": [
        "#### **BOW 피처 벡터화**\n",
        "머신러닝 알고리즘은 일반적으로 숫자형 피처를 데이터로 입력받아 동작하므로 텍스트와 같은 데이터는 바로 입력할 수 없음\n",
        "- 텍스트를 **특정 의미를 가지는 숫자형 값인 벡터 값으로 변환하는 피처 벡터화**를 거쳐야 함\n",
        "  - 각 문서의 텍스트를 단어로 추출해 피처로 할당하고, 각 단어의 발생 빈도와 같은 값을 피처에 값으로 부여해 <br/> 각 문서를 이 단어 피처의 발생 빈도 값으로 구성된 벡터로 만드는 기법\n",
        "  - 기존 텍스트 데이터를 또 다른 형태의 피처의 조합으로 변경하기 때문에 넓은 의미의 피처 추출에 포함\n",
        "- BOW 모델의 피처 벡터화는 모든 문서에서 모든 단어를 칼럼 형태로 나열하고 <br/> **각 문서에서 해당 단어의 횟수나 정규화된 빈도를 값으로 부여하는 데이터 세트 모델로 변경**하는 것\n",
        "  - M개의 텍스트 문서가 있고, 이 문서에서 모든 단어를 추출해 나열했을 때 N개의 단어가 있다고 가정\n",
        "  - 문서의 피처 벡터화를 수행하면 M개의 문서는 각각 N개의 값이 할당된 피처의 벡터 세트\n",
        "  - M X N개의 단어 피처로 이뤄진 행렬을 구성"
      ],
      "metadata": {
        "id": "NDdjlB050Xvv"
      }
    },
    {
      "cell_type": "markdown",
      "source": [
        "##### **BOW의 피처 벡터화 방식**\n",
        "일반적으로 BOW의 피처 벡터화는 두 가지 방식 존재\n",
        "- 카운트 기반의 벡터화\n",
        "- TF_IDF(Term Frequency - Inverse Document Frequency) 기반의 벡터화"
      ],
      "metadata": {
        "id": "N75Prc_r1XE1"
      }
    },
    {
      "cell_type": "markdown",
      "source": [
        "**카운트 벡터화** <br/>\n",
        "단어 피처에 값을 부여할 때 각 문서에서 해당 단어가 나타나는 횟수, 즉 Count를 부여하는 경우\n",
        "- 카운트 값이 높을수록 중요한 단어로 인식\n",
        "- 카운트만 부여할 경우 언어의 특성상 문장에서 자주 사용될 수 밖에 없는 단어까지 높은 값을 부여하게 됨\n",
        "- 이러한 문제를 보완하기 위해 TF-IDF 벡터화 사용"
      ],
      "metadata": {
        "id": "nCrO-vlh1hSw"
      }
    },
    {
      "cell_type": "markdown",
      "source": [
        "**TF-IDF 벡터화** <Br/>\n",
        "개별 문서에서 자주 나타나는 단어에 높은 가중치를 주되, <br/> 모든 문서에서 전반적으로 자주 나타나는 단어에 대해서는 패널티를 주는 방식으로 값을 부여\n",
        "- 단어가 단순히 등장하는 횟수에 따라 중요도를 평가받는다면 문서를 특정짓기가 어려워짐\n",
        "  - 어떤 문서에서 특정 단어가 자주 나타나면 그 단어는 해당 문서를 특징짓는 중요 단어일 수 있음\n",
        "  - 다른 문서에도 자주 나타나는 단어라면 해당 단어는 언어 특성상 범용적으로 자주 사용되는 단어일 가능성이 높음\n",
        "- 모든 문서에서 반복적으로 자주 발생하는 단어에 대해서는 페널티를 부여해 단어에 대한 가중치의 균형을 맞춤\n",
        "  - '많은', '빈번하게', '당연히' 등의 단어는 문서의 특징과 관련성이 적지만 보편적으로 많이 사용\n",
        "  - 문서마다 텍스트가 길고 문서의 개수가 많은 경우 카운트 방식보다는 TF-IDF 방식이 더 좋은 예측 성능 보장"
      ],
      "metadata": {
        "id": "_0wFXVGo10YG"
      }
    },
    {
      "cell_type": "markdown",
      "source": [
        "#### **사이킷런의 Count 및 TF-IDF 벡터화 구현: Countvectorizer, Tfidfvectorizer**"
      ],
      "metadata": {
        "id": "motwyOA02kQH"
      }
    },
    {
      "cell_type": "markdown",
      "source": [
        "##### **사이킷런의 CountVectorizer 클래스**\n",
        "사이킷런의 CountVectorizer 클래스는 카운트 기반의 벡터화를 구현한 클래스\n",
        "- 피처 벡터화만을 수행하지는 않으며, 소문자 일괄 변환, 토큰화, 스톱 워드 필터링 등의 텍스트 전처리도 함께 수행\n",
        "- 텍스트 전처리 및 피처 벡터화를 위한 입력 파라미터를 설정해 동작\n",
        "- 다른 피처 변환 클래스와 마찬가지로 fit()과 transform()을 통해 피처 벡터화된 객체를 반환"
      ],
      "metadata": {
        "id": "yn9eUmCZ2z5O"
      }
    },
    {
      "cell_type": "markdown",
      "source": [
        "**CountVectorizer의 입력 파라미터**\n",
        "- **max_df**\n",
        "  - 전체 문서에 걸쳐서 **너무 높은 빈도수를 가지는 단어 피처를 제외하기 위한 파라미터**\n",
        "  - 너무 높은 빈도수를 가지는 단어는 스톱 워드와 비슷한 문법적인 특성으로 반복적인 단어일 가능성이 높기에 이를 제거\n",
        "  - max_df = 100과 같이 정수 값을 가지면 전체 문서에 걸쳐 100개 이하로 나타나는 단어만 피처로 추출\n",
        "  - max_df = 0.95와 같이 부동 소수점(0.0 ~ 1.0) 값을 가지면, <br/> 전체 문서에 걸쳐 빈도수 0~95% 까지의 단어만 피처로 추출하고 나머지 상위 5%는 피처로 추출하지 않음\n",
        "- **min_df**\n",
        "  - 전체 문서에 걸쳐서 **너무 낮은 빈도수를 가지는 단어 피처를 제외하기 위한 파라미터**\n",
        "  - 수백 ~ 수천 개의 전체 문서에서 특정 단어가 min_df에 설정된 값보다 적은 빈도수를 가진다면, <br/> 이 단어는 크게 중요하지 않거나 가비지(garbage)성 단어일 확률이 높음\n",
        "  - min_df = 2와 같이 정수 값을 가지면 전체 문서에 걸쳐 2번 이하로 나타나는 단어는 피처로 추출하지 않음\n",
        "  - min_df = 0.02와 같이 부동 소수점(0.0 ~ 1.0) 값을 가지면, <br/> 전체 문서에 걸쳐 하위 2% 이하의 빈도수를 가지는 단어는 피처로 추출하지 않음\n",
        "- **max_features**\n",
        "  - **추출하는 피처의 개수를 제한**하며 정수로 값을 지정\n",
        "  - max_features = 2000으로 지정할 경우 가장 높은 빈도를 가지는 단어 순으로 정렬해 2000개까지만 피처로 추출\n",
        "- **stop_words**\n",
        "  - 'english'로 지정하면 영어의 스톱 워드로 지정된 단어는 추출에서 제외\n",
        "- **n_gram_range**\n",
        "  - BOW 모델의 단어 순서를 어느 정도 보강하기 위핸 **n_gram 범위를 설정**\n",
        "  - 튜플 형태로 (범위 최솟값, 범위 최댓값)을 지정\n",
        "  - (1, 1)로 지정하면 토큰화된 단어를 1개씩 피처로 추출\n",
        "  - (1, 2)로 지정하면 토큰화된 단어를 1개씩, 그리고 순서대로 2개씩 묶어서 피처로 추출\n",
        "- **analyzer**\n",
        "  - 피처 추출을 수행한 단위를 지정하며, 디폴트는 'word'\n",
        "  - word가 아니라 character의 특정 범위를 피처로 만드는 특정한 경우 등을 적용할 때 사용\n",
        "- **token_pattern**\n",
        "  - 토큰화를 수행하는 정규 표현식 패턴을 지정하며, 디폴트는 '\\b\\w\\w+\\b'\n",
        "  - 공백 또는 개행 문자 등으로 구분된 단어 분리자 사이의 2문자(문자 또는 숫자, 등 영숫자) 이상의 단어를 토큰으로 분리\n",
        "  - analyzer = word로 설정했을 때만 변경 가능하나, 거의 변경하지 않음\n",
        "- **tokenizer**\n",
        "  - 토큰화를 별도의 커스텀 함수로 이용 시 적용\n",
        "  - 일반적으로 CountTokenizer 클래스에서 어근 변환 시 이를 수행하는 별도의 함수를 파라미터로 적용"
      ],
      "metadata": {
        "id": "CFG_XoRS3Qxx"
      }
    },
    {
      "cell_type": "markdown",
      "source": [
        "**CountVectorizer를 이용한 피처 벡터화 방법** <br/>\n",
        "사이킷런의 CountVectorizer 클래스를 이용해 카운트 기반의 피처 여러 개의 문서로 구성된 텍스트의 피처 벡터화 방법\n",
        "- **사전 데이터 가공**\n",
        "  - 영어의 경우 모든 문자를 소문자로 변경하는 등의 전처리 작업을 수행\n",
        "  - Default로 lowercase = True\n",
        "- **토큰화**\n",
        "  - n_gram_range를 반영해 각 단어를 토큰화\n",
        "  - Default로 단어 기준 (analyzer = True)\n",
        "- **텍스트 정규화**\n",
        "  - stop_wrods = 'english'와 같이 주어진 경우 **stop words 필터링만 수행 가능**\n",
        "  - Stemming과 Lmmatization 같은 어근 변환은 CountBectorizer에서 직접 지원하지 않음\n",
        "  - tokenizer 파라미터에서 커스텀 어근 변환 함수를 적용하거나 외부패키지로 Text Normalization 수행\n",
        "- **피처 벡터화**\n",
        "  - max_df, min_df, max_features 등 파라미터를 이용해 토큰화된 단어로 피처를 추출하고, 단어 빈도수 벡터 값을 적용"
      ],
      "metadata": {
        "id": "V3_qtDdM5H_u"
      }
    },
    {
      "cell_type": "markdown",
      "source": [
        "##### **사이킷런의 TfidfVectorizer 클래스**\n",
        "사이킷런의 TfidfVectorizer 클래스는 TF-IDF 벡터화를 구현한 클래스\n",
        "- 파라미터와 변환 방법은 CountVectorizer와 동일"
      ],
      "metadata": {
        "id": "cI34aIq77iRH"
      }
    },
    {
      "cell_type": "markdown",
      "source": [
        "#### **BOW 벡터화를 위한 희소 행렬**\n",
        "사이킷런의 CountVectorizer/TfdfVectorizer를 이용해 텍스트를 피처 단위로 벡터화해 변환하고 CSR 형태의 희소 행렬 반환\n",
        "- 사용자 입장에서 피처 벡터화된 희소 행렬이 어떤 형태인지 중요하지 않을 수 있음\n",
        "- 좀 더 난이도 있는 ML 모델을 수립하기 위해서는 이러한 희소 행렬이 어떤 형태로 돼 있는지 알아야 함"
      ],
      "metadata": {
        "id": "r_1-bpT77ziF"
      }
    },
    {
      "cell_type": "markdown",
      "source": [
        "**희소 행렬** <br/>\n",
        "대규모 행렬의 대부분의 값을 0이 차지하는 행렬\n",
        "- BOW 형태를 가진 언어 모델의 피처 벡터화는 대부분 희소 행렬"
      ],
      "metadata": {
        "id": "DG8vs08_8JOH"
      }
    },
    {
      "cell_type": "markdown",
      "source": [
        "**희소 행렬의 방식**\n",
        "- COO 형식과 CSR 형식이 존재"
      ],
      "metadata": {
        "id": "dW5Wh39S8i5Q"
      }
    },
    {
      "cell_type": "markdown",
      "source": [
        "#### **희소 행렬 - COO 형식 (Coordinate: 좌표)**\n",
        "0이 아닌 데이터만 별도의 데이터 배열에 저장하고, 그 데이터가 가르키는 행과 열의 위치를 별도의 배열로 저장하는 방식"
      ],
      "metadata": {
        "id": "oFOA0qkC8oj_"
      }
    },
    {
      "cell_type": "code",
      "source": [
        "import numpy as np\n",
        "\n",
        "dense = np.array( [ [ 3, 0, 1 ], \n",
        "                    [0, 2, 0 ] ] )"
      ],
      "metadata": {
        "id": "I3Wd8sdA7y6u"
      },
      "execution_count": 13,
      "outputs": []
    },
    {
      "cell_type": "code",
      "source": [
        "from scipy import sparse\n",
        "\n",
        "# 0 이 아닌 데이터 추출\n",
        "data = np.array([3,1,2])\n",
        "\n",
        "# 행 위치와 열 위치를 각각 array로 생성 \n",
        "row_pos = np.array([0,0,1])\n",
        "col_pos = np.array([0,2,1])\n",
        "\n",
        "# sparse 패키지의 coo_matrix를 이용하여 COO 형식으로 희소 행렬 생성\n",
        "sparse_coo = sparse.coo_matrix((data, (row_pos,col_pos)))"
      ],
      "metadata": {
        "id": "BQyj6iIZ85_s"
      },
      "execution_count": 14,
      "outputs": []
    },
    {
      "cell_type": "code",
      "source": [
        "print(type(sparse_coo))\n",
        "print(sparse_coo)\n",
        "dense01=sparse_coo.toarray()\n",
        "print(type(dense01),\"\\n\", dense01)"
      ],
      "metadata": {
        "colab": {
          "base_uri": "https://localhost:8080/"
        },
        "id": "TLNRGwp28-e2",
        "outputId": "0deae178-36cc-40cc-e3c4-ed3db8753cfd"
      },
      "execution_count": 15,
      "outputs": [
        {
          "output_type": "stream",
          "name": "stdout",
          "text": [
            "<class 'scipy.sparse._coo.coo_matrix'>\n",
            "  (0, 0)\t3\n",
            "  (0, 2)\t1\n",
            "  (1, 1)\t2\n",
            "<class 'numpy.ndarray'> \n",
            " [[3 0 1]\n",
            " [0 2 0]]\n"
          ]
        }
      ]
    },
    {
      "cell_type": "markdown",
      "source": [
        "#### **희소 행렬 - CSR 형식 (Compressed Sparse Row)** <br/>\n",
        "COO 형식이 행과 열의 위치를 나타내기 위해서 반복적인 위치 데이터를 사용해야 하는 문제점을 해결한 방식"
      ],
      "metadata": {
        "id": "xHhT4eWf9B6d"
      }
    },
    {
      "cell_type": "code",
      "source": [
        "from scipy import sparse\n",
        "\n",
        "dense2 = np.array([[0,0,1,0,0,5],\n",
        "             [1,4,0,3,2,5],\n",
        "             [0,6,0,3,0,0],\n",
        "             [2,0,0,0,0,0],\n",
        "             [0,0,0,7,0,8],\n",
        "             [1,0,0,0,0,0]])\n",
        "\n",
        "# 0 이 아닌 데이터 추출\n",
        "data2 = np.array([1, 5, 1, 4, 3, 2, 5, 6, 3, 2, 7, 8, 1])\n",
        "\n",
        "# 행 위치와 열 위치를 각각 array로 생성 \n",
        "row_pos = np.array([0, 0, 1, 1, 1, 1, 1, 2, 2, 3, 4, 4, 5])\n",
        "col_pos = np.array([2, 5, 0, 1, 3, 4, 5, 1, 3, 0, 3, 5, 0])\n",
        "\n",
        "# COO 형식으로 변환 \n",
        "sparse_coo = sparse.coo_matrix((data2, (row_pos,col_pos)))\n",
        "\n",
        "# 행 위치 배열의 고유한 값들의 시작 위치 인덱스를 배열로 생성\n",
        "row_pos_ind = np.array([0, 2, 7, 9, 10, 12, 13])\n",
        "\n",
        "# CSR 형식으로 변환 \n",
        "sparse_csr = sparse.csr_matrix((data2, col_pos, row_pos_ind))\n",
        "\n",
        "print('COO 변환된 데이터가 제대로 되었는지 다시 Dense로 출력 확인')\n",
        "print(sparse_coo.toarray())\n",
        "print('CSR 변환된 데이터가 제대로 되었는지 다시 Dense로 출력 확인')\n",
        "print(sparse_csr.toarray())"
      ],
      "metadata": {
        "colab": {
          "base_uri": "https://localhost:8080/"
        },
        "id": "99Zm7nh69BJI",
        "outputId": "7a131986-f690-4e57-ade1-b100dcf22632"
      },
      "execution_count": 16,
      "outputs": [
        {
          "output_type": "stream",
          "name": "stdout",
          "text": [
            "COO 변환된 데이터가 제대로 되었는지 다시 Dense로 출력 확인\n",
            "[[0 0 1 0 0 5]\n",
            " [1 4 0 3 2 5]\n",
            " [0 6 0 3 0 0]\n",
            " [2 0 0 0 0 0]\n",
            " [0 0 0 7 0 8]\n",
            " [1 0 0 0 0 0]]\n",
            "CSR 변환된 데이터가 제대로 되었는지 다시 Dense로 출력 확인\n",
            "[[0 0 1 0 0 5]\n",
            " [1 4 0 3 2 5]\n",
            " [0 6 0 3 0 0]\n",
            " [2 0 0 0 0 0]\n",
            " [0 0 0 7 0 8]\n",
            " [1 0 0 0 0 0]]\n"
          ]
        }
      ]
    },
    {
      "cell_type": "code",
      "source": [
        "print(sparse_csr)"
      ],
      "metadata": {
        "colab": {
          "base_uri": "https://localhost:8080/"
        },
        "id": "auAiTpEZ9Y77",
        "outputId": "17376a65-1aa6-4782-b941-61bc1d65f19d"
      },
      "execution_count": 17,
      "outputs": [
        {
          "output_type": "stream",
          "name": "stdout",
          "text": [
            "  (0, 2)\t1\n",
            "  (0, 5)\t5\n",
            "  (1, 0)\t1\n",
            "  (1, 1)\t4\n",
            "  (1, 3)\t3\n",
            "  (1, 4)\t2\n",
            "  (1, 5)\t5\n",
            "  (2, 1)\t6\n",
            "  (2, 3)\t3\n",
            "  (3, 0)\t2\n",
            "  (4, 3)\t7\n",
            "  (4, 5)\t8\n",
            "  (5, 0)\t1\n"
          ]
        }
      ]
    },
    {
      "cell_type": "code",
      "source": [
        "dense3 = np.array([[0,0,1,0,0,5],\n",
        "             [1,4,0,3,2,5],\n",
        "             [0,6,0,3,0,0],\n",
        "             [2,0,0,0,0,0],\n",
        "             [0,0,0,7,0,8],\n",
        "             [1,0,0,0,0,0]])\n",
        "\n",
        "coo = sparse.coo_matrix(dense3)\n",
        "csr = sparse.csr_matrix(dense3)"
      ],
      "metadata": {
        "id": "qWVHS1xW9aZ9"
      },
      "execution_count": 18,
      "outputs": []
    },
    {
      "cell_type": "code",
      "source": [],
      "metadata": {
        "id": "rSXk-gf89baS"
      },
      "execution_count": null,
      "outputs": []
    }
  ]
}